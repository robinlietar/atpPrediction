{
 "cells": [
  {
   "cell_type": "code",
   "execution_count": null,
   "metadata": {
    "collapsed": false
   },
   "outputs": [],
   "source": [
    "import csv\n",
    "import datetime\n",
    "\n",
    "csvfileRead = open('games_atp_Wind.csv','rb')\n",
    "csvfileWrite = open('games_atp_Wind copy.csv','wb')\n",
    "\n",
    "reader = csv.reader(csvfileRead, delimiter=';', quotechar='|')\n",
    "writer = csv.writer(csvfileWrite, lineterminator='\\n')\n",
    "\n",
    "all = []\n",
    "\n",
    "t= 0\n",
    "row0 = reader.next()\n",
    "row0.append('DATE_PARSED')\n",
    "row0.append('DATE_NUMBER')\n",
    "all.append(row0)\n",
    "\n",
    "#print(row0)\n",
    "\n",
    "# Step 1 : Garder la date et calculer la valeur de la date (pour une différence plus tard)\n",
    "\n",
    "for row in reader:\n",
    "    dateString = row[5][:8]\n",
    "    dateNumber = min(int(dateString[:2]),30) + int(dateString[3:5])*30 + int(dateString[6:8])*365\n",
    "    dateString = '20' + dateString[6:8] + '-' + dateString[3:5] + '-' + dateString[:2]\n",
    "    #datetime.datetime.strftime(dateString, \"%d/%m/%Y\")\n",
    "    row.append(dateString)\n",
    "    row.append(str(dateNumber))\n",
    "    all.append(row)\n",
    "    \n",
    "    t = t + 1\n",
    "    if t < 10:\n",
    "        print ', '.join(row)\n",
    "writer.writerows(all)\n",
    "\n"
   ]
  },
  {
   "cell_type": "code",
   "execution_count": 50,
   "metadata": {
    "collapsed": false
   },
   "outputs": [
    {
     "name": "stdout",
     "output_type": "stream",
     "text": [
      "['\"DATE_R\"', '\"ID_P_R\"', '\"POINT_R\"', '\"POS_R\"', 'DATE_PARSED', 'DATE_NUMBER']\n",
      "\"2012-01-02 00:00:00\", \"5992\", \"13630\", \"1\", \"2012-01-02, 10982\n",
      "\"2012-01-02 00:00:00\", \"677\", \"9595\", \"2\", \"2012-01-02, 10982\n",
      "\"2012-01-02 00:00:00\", \"19\", \"8170\", \"3\", \"2012-01-02, 10982\n",
      "\"2012-01-02 00:00:00\", \"1075\", \"7380\", \"4\", \"2012-01-02, 10982\n",
      "\"2012-01-02 00:00:00\", \"673\", \"4925\", \"5\", \"2012-01-02, 10982\n",
      "\"2012-01-02 00:00:00\", \"3985\", \"4335\", \"6\", \"2012-01-02, 10982\n",
      "\"2012-01-02 00:00:00\", \"831\", \"3700\", \"7\", \"2012-01-02, 10982\n",
      "\"2012-01-02 00:00:00\", \"553\", \"2965\", \"8\", \"2012-01-02, 10982\n",
      "\"2012-01-02 00:00:00\", \"728\", \"2595\", \"9\", \"2012-01-02, 10982\n"
     ]
    }
   ],
   "source": [
    "# Step 2 : Meme preparation pour ratings_atp au niveau de la date, en vue d'un join\n",
    "\n",
    "csvfileRead = open('ratings_atp.csv','rb')\n",
    "csvfileWrite = open('ratings_atp copy.csv','wb')\n",
    "\n",
    "reader = csv.reader(csvfileRead, delimiter=';', quotechar='|')\n",
    "writer = csv.writer(csvfileWrite, lineterminator='\\n')\n",
    "\n",
    "all = []\n",
    "\n",
    "t= 0\n",
    "row0 = reader.next()\n",
    "row0.append('DATE_PARSED')\n",
    "row0.append('DATE_NUMBER')\n",
    "all.append(row0)\n",
    "print(row0)\n",
    "\n",
    "for row in reader:\n",
    "    dateString = row[0][:11]\n",
    "    dateNumber = min(int(dateString[1:5]),30)*365 + int(dateString[6:8])*30 + int(dateString[9:11])\n",
    "    row.append(dateString)\n",
    "    row.append(str(dateNumber))\n",
    "    all.append(row)\n",
    "    \n",
    "    t = t + 1\n",
    "    if t < 10:\n",
    "        print ', '.join(row)\n",
    "writer.writerows(all)"
   ]
  },
  {
   "cell_type": "code",
   "execution_count": 3,
   "metadata": {
    "collapsed": false
   },
   "outputs": [
    {
     "ename": "SyntaxError",
     "evalue": "invalid syntax (<ipython-input-3-57cb3459f236>, line 2)",
     "output_type": "error",
     "traceback": [
      "\u001b[0;36m  File \u001b[0;32m\"<ipython-input-3-57cb3459f236>\"\u001b[0;36m, line \u001b[0;32m2\u001b[0m\n\u001b[0;31m    python3.2\u001b[0m\n\u001b[0m            ^\u001b[0m\n\u001b[0;31mSyntaxError\u001b[0m\u001b[0;31m:\u001b[0m invalid syntax\n"
     ]
    }
   ],
   "source": [
    "# Step 3 : Merging using pandas\n",
    "python3.2\n",
    "import pandas as pd"
   ]
  },
  {
   "cell_type": "code",
   "execution_count": null,
   "metadata": {
    "collapsed": true
   },
   "outputs": [],
   "source": []
  }
 ],
 "metadata": {
  "kernelspec": {
   "display_name": "Python 2",
   "language": "python",
   "name": "python2"
  },
  "language_info": {
   "codemirror_mode": {
    "name": "ipython",
    "version": 2
   },
   "file_extension": ".py",
   "mimetype": "text/x-python",
   "name": "python",
   "nbconvert_exporter": "python",
   "pygments_lexer": "ipython2",
   "version": "2.7.11"
  }
 },
 "nbformat": 4,
 "nbformat_minor": 0
}
